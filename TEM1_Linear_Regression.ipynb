{
  "nbformat": 4,
  "nbformat_minor": 0,
  "metadata": {
    "colab": {
      "name": "TEM1_Linear_Regression.ipynb",
      "provenance": [],
      "toc_visible": true,
      "include_colab_link": true
    },
    "kernelspec": {
      "name": "python3",
      "display_name": "Python 3"
    },
    "language_info": {
      "name": "python"
    }
  },
  "cells": [
    {
      "cell_type": "markdown",
      "metadata": {
        "id": "view-in-github",
        "colab_type": "text"
      },
      "source": [
        "<a href=\"https://colab.research.google.com/github/V1A/Prueba/blob/main/TEM1_Linear_Regression.ipynb\" target=\"_parent\"><img src=\"https://colab.research.google.com/assets/colab-badge.svg\" alt=\"Open In Colab\"/></a>"
      ]
    },
    {
      "cell_type": "markdown",
      "metadata": {
        "id": "Dofl4n9xl2AF"
      },
      "source": [
        "# Regresión Lineal\n",
        "\n",
        "El dataset que emplearemos ahora tiene como objetivo determinar la potencia de salida de una planta eléctrica. Los features son los siguientes:\n",
        "\n",
        "- Temperature (AT) in the range 1.81°C and 37.11°C,\n",
        "- Exhaust Vacuum (V) in teh range 25.36-81.56 cm Hg\n",
        "- Ambient Pressure (AP) in the range 992.89-1033.30 milibar,\n",
        "- Relative Humidity (RH) in the range 25.56% to 100.16%\n",
        "\n",
        "La respuesta está data en la columna PE, de las siguientes características:\n",
        "\n",
        "- Net hourly electrical energy output (PE) 420.26-495.76 MW"
      ]
    },
    {
      "cell_type": "code",
      "metadata": {
        "id": "MPyLNW3YHRwe",
        "colab": {
          "base_uri": "https://localhost:8080/"
        },
        "outputId": "0158e060-c810-4909-affb-4ce356ac1a74"
      },
      "source": [
        "#Obtener el dataset a partir de:\n",
        "!wget http://www.innovacademy.com/my_resources/retail_db.zip"
      ],
      "execution_count": 81,
      "outputs": [
        {
          "output_type": "stream",
          "name": "stdout",
          "text": [
            "--2021-11-10 19:45:15--  http://www.innovacademy.com/my_resources/retail_db.zip\n",
            "Resolving www.innovacademy.com (www.innovacademy.com)... 108.167.158.160\n",
            "Connecting to www.innovacademy.com (www.innovacademy.com)|108.167.158.160|:80... connected.\n",
            "HTTP request sent, awaiting response... 200 OK\n",
            "Length: 1709365 (1.6M) [application/zip]\n",
            "Saving to: ‘retail_db.zip.2’\n",
            "\n",
            "retail_db.zip.2     100%[===================>]   1.63M  5.75MB/s    in 0.3s    \n",
            "\n",
            "2021-11-10 19:45:15 (5.75 MB/s) - ‘retail_db.zip.2’ saved [1709365/1709365]\n",
            "\n"
          ]
        }
      ]
    },
    {
      "cell_type": "code",
      "metadata": {
        "colab": {
          "base_uri": "https://localhost:8080/"
        },
        "id": "umtwTR3qIBaF",
        "outputId": "238091f5-7f09-4fd1-9118-84dbc3dd352a"
      },
      "source": [
        "!unzip retail_db.zip"
      ],
      "execution_count": 82,
      "outputs": [
        {
          "output_type": "stream",
          "name": "stdout",
          "text": [
            "Archive:  retail_db.zip\n",
            "replace retail_db/categories/part-00000? [y]es, [n]o, [A]ll, [N]one, [r]ename: "
          ]
        }
      ]
    },
    {
      "cell_type": "code",
      "metadata": {
        "id": "B2Co9J_ELu99"
      },
      "source": [
        "!apt-get install openjdk-11-jdk-headless -qq > /dev/null"
      ],
      "execution_count": 83,
      "outputs": []
    },
    {
      "cell_type": "code",
      "metadata": {
        "id": "eergcppwZMBp",
        "colab": {
          "base_uri": "https://localhost:8080/"
        },
        "outputId": "d0108da6-bc0f-444a-f466-77753c3cc6b4"
      },
      "source": [
        "!pip install -q py4j\n",
        "!pip install pyspark\n",
        "!pip install joblibspark"
      ],
      "execution_count": 84,
      "outputs": [
        {
          "output_type": "stream",
          "name": "stdout",
          "text": [
            "Requirement already satisfied: pyspark in /usr/local/lib/python3.7/dist-packages (3.2.0)\n",
            "Requirement already satisfied: py4j==0.10.9.2 in /usr/local/lib/python3.7/dist-packages (from pyspark) (0.10.9.2)\n",
            "Requirement already satisfied: joblibspark in /usr/local/lib/python3.7/dist-packages (0.4.0)\n",
            "Requirement already satisfied: joblib>=0.14 in /usr/local/lib/python3.7/dist-packages (from joblibspark) (1.1.0)\n"
          ]
        }
      ]
    },
    {
      "cell_type": "code",
      "metadata": {
        "id": "uq6HRgByZGRM"
      },
      "source": [
        "import numpy as np\n",
        "import pandas as pd\n",
        "\n",
        "import matplotlib.pyplot as plt\n",
        "import seaborn as sb\n",
        "\n",
        "from pyspark.sql import SparkSession\n",
        "from pyspark.sql.types import StringType, IntegerType, StructType, StructField\n",
        "from pyspark.sql import functions as F\n",
        "from pyspark.ml.feature import VectorAssembler\n",
        "from pyspark.ml.regression import LinearRegression, RandomForestRegressor\n",
        "\n",
        "from pyspark.sql.types import *\n",
        "import pyspark.sql.functions as F"
      ],
      "execution_count": 85,
      "outputs": []
    },
    {
      "cell_type": "markdown",
      "metadata": {
        "id": "edmrx5_6o4-8"
      },
      "source": [
        "Inicializar la sesión de spark a través de getOrCreate()"
      ]
    },
    {
      "cell_type": "code",
      "metadata": {
        "id": "QLjVNLiLo9dm"
      },
      "source": [
        "spark = SparkSession.builder.master('local[*]').getOrCreate()"
      ],
      "execution_count": 86,
      "outputs": []
    },
    {
      "cell_type": "code",
      "metadata": {
        "colab": {
          "base_uri": "https://localhost:8080/"
        },
        "id": "LnmQZIwWIcy9",
        "outputId": "09613572-716d-4c83-b156-609140282354"
      },
      "source": [
        "!ls -l retail_db"
      ],
      "execution_count": 87,
      "outputs": [
        {
          "output_type": "stream",
          "name": "stdout",
          "text": [
            "total 24\n",
            "drwxr-xr-x 2 root root 4096 Sep 14  2019 categories\n",
            "drwxr-xr-x 2 root root 4096 Sep 14  2019 customers\n",
            "drwxr-xr-x 2 root root 4096 Sep 14  2019 departments\n",
            "drwxr-xr-x 2 root root 4096 Sep 14  2019 order_items\n",
            "drwxr-xr-x 2 root root 4096 Sep 14  2019 orders\n",
            "drwxr-xr-x 2 root root 4096 Sep 14  2019 products\n"
          ]
        }
      ]
    },
    {
      "cell_type": "markdown",
      "metadata": {
        "id": "QfpKk1FQo_Hc"
      },
      "source": [
        "Definir el esquema que refleje los tipos de datos de cada columna (Con StructType y StructField)"
      ]
    },
    {
      "cell_type": "code",
      "metadata": {
        "id": "f-B327LiaP-D"
      },
      "source": [
        "#Crear los esquemas correspondientes a cada tabla del dataset\n",
        "departments_schema = StructType([\n",
        "    StructField('department_id', IntegerType(), False),\n",
        "    StructField('department_name', StringType(), False)\n",
        "])\n",
        "\n",
        "categories_schema = StructType([\n",
        "    StructField('category_id', IntegerType(), False),\n",
        "    StructField('category_department_id', IntegerType(), False),\n",
        "    StructField('category_name', StringType(), False)\n",
        "])\n",
        "\n",
        "products_schema = StructType([\n",
        "    StructField('product_id', IntegerType(), False),\n",
        "    StructField('product_category_id', IntegerType(), False),\n",
        "    StructField('product_name', StringType(), False),\n",
        "    StructField('product_description', StringType(), False),\n",
        "    StructField('product_price', FloatType(), False),\n",
        "    StructField('product_image', StringType(), False)\n",
        "])\n",
        "\n",
        "orders_schema = StructType([\n",
        "    StructField('order_id', IntegerType(), False),\n",
        "    StructField('order_date', DateType(), False),\n",
        "    StructField('order_customer_id', IntegerType(), False),\n",
        "    StructField('order_status', StringType(), False)\n",
        "])\n",
        "\n",
        "order_items_schema = StructType([\n",
        "    StructField('order_item_id', IntegerType(), False),\n",
        "    StructField('order_item_order_id', IntegerType(), False),\n",
        "    StructField('order_item_product_id', IntegerType(), False),\n",
        "    StructField('order_item_quantity', IntegerType(), False),\n",
        "    StructField('order_item_subtotal', FloatType(), False),\n",
        "    StructField('order_item_product_price', IntegerType(), False)\n",
        "])\n",
        "\n",
        "customers_schema = StructType([\n",
        "    StructField('customer_id', IntegerType(), False),\n",
        "    StructField('customer_fname', StringType(), False),\n",
        "    StructField('customer_lname', StringType(), False),\n",
        "    StructField('customer_email', StringType(), False),\n",
        "    StructField('customer_password', StringType(), False),\n",
        "    StructField('customer_street', StringType(), False),\n",
        "    StructField('customer_city', StringType(), False),\n",
        "    StructField('customer_state', StringType(), False),\n",
        "    StructField('customer_zipcode', StringType(), False)\n",
        "])\n",
        "\n",
        "customers = spark.read.schema(customers_schema).csv('retail_db/customers')\n",
        "orders = spark.read.schema(orders_schema).csv('retail_db/orders')\n",
        "products = spark.read.schema(products_schema).csv('retail_db/products')\n",
        "order_items = spark.read.schema(order_items_schema).csv('retail_db/order_items')"
      ],
      "execution_count": 88,
      "outputs": []
    },
    {
      "cell_type": "code",
      "metadata": {
        "colab": {
          "base_uri": "https://localhost:8080/"
        },
        "id": "t12xqOfLI8OG",
        "outputId": "ea8cd7fd-5ff3-458b-99d0-41a0c89e9176"
      },
      "source": [
        "order_items.show()"
      ],
      "execution_count": 89,
      "outputs": [
        {
          "output_type": "stream",
          "name": "stdout",
          "text": [
            "+-------------+-------------------+---------------------+-------------------+-------------------+------------------------+\n",
            "|order_item_id|order_item_order_id|order_item_product_id|order_item_quantity|order_item_subtotal|order_item_product_price|\n",
            "+-------------+-------------------+---------------------+-------------------+-------------------+------------------------+\n",
            "|            1|                  1|                  957|                  1|             299.98|                    null|\n",
            "|            2|                  2|                 1073|                  1|             199.99|                    null|\n",
            "|            3|                  2|                  502|                  5|              250.0|                    null|\n",
            "|            4|                  2|                  403|                  1|             129.99|                    null|\n",
            "|            5|                  4|                  897|                  2|              49.98|                    null|\n",
            "|            6|                  4|                  365|                  5|             299.95|                    null|\n",
            "|            7|                  4|                  502|                  3|              150.0|                    null|\n",
            "|            8|                  4|                 1014|                  4|             199.92|                    null|\n",
            "|            9|                  5|                  957|                  1|             299.98|                    null|\n",
            "|           10|                  5|                  365|                  5|             299.95|                    null|\n",
            "|           11|                  5|                 1014|                  2|              99.96|                    null|\n",
            "|           12|                  5|                  957|                  1|             299.98|                    null|\n",
            "|           13|                  5|                  403|                  1|             129.99|                    null|\n",
            "|           14|                  7|                 1073|                  1|             199.99|                    null|\n",
            "|           15|                  7|                  957|                  1|             299.98|                    null|\n",
            "|           16|                  7|                  926|                  5|              79.95|                    null|\n",
            "|           17|                  8|                  365|                  3|             179.97|                    null|\n",
            "|           18|                  8|                  365|                  5|             299.95|                    null|\n",
            "|           19|                  8|                 1014|                  4|             199.92|                    null|\n",
            "|           20|                  8|                  502|                  1|               50.0|                    null|\n",
            "+-------------+-------------------+---------------------+-------------------+-------------------+------------------------+\n",
            "only showing top 20 rows\n",
            "\n"
          ]
        }
      ]
    },
    {
      "cell_type": "code",
      "metadata": {
        "colab": {
          "base_uri": "https://localhost:8080/"
        },
        "id": "9p1YDfx5JBVu",
        "outputId": "f82e5f40-f762-4a77-fc99-5f4cf45eee3d"
      },
      "source": [
        "#Leer los dataframes para cada archivo\n",
        "departments = spark.read.schema(departments_schema).csv('retail_db/departments')\n",
        "departments.show()"
      ],
      "execution_count": 90,
      "outputs": [
        {
          "output_type": "stream",
          "name": "stdout",
          "text": [
            "+-------------+---------------+\n",
            "|department_id|department_name|\n",
            "+-------------+---------------+\n",
            "|            2|        Fitness|\n",
            "|            3|       Footwear|\n",
            "|            4|        Apparel|\n",
            "|            5|           Golf|\n",
            "|            6|       Outdoors|\n",
            "|            7|       Fan Shop|\n",
            "+-------------+---------------+\n",
            "\n"
          ]
        }
      ]
    },
    {
      "cell_type": "code",
      "metadata": {
        "colab": {
          "base_uri": "https://localhost:8080/"
        },
        "id": "GmPKj9-AJQit",
        "outputId": "ac8bf550-772d-47ca-d6b1-c5edb74de969"
      },
      "source": [
        "categories = spark.read.schema(categories_schema).csv('retail_db/categories')\n",
        "categories.show()"
      ],
      "execution_count": 91,
      "outputs": [
        {
          "output_type": "stream",
          "name": "stdout",
          "text": [
            "+-----------+----------------------+-------------------+\n",
            "|category_id|category_department_id|      category_name|\n",
            "+-----------+----------------------+-------------------+\n",
            "|          1|                     2|           Football|\n",
            "|          2|                     2|             Soccer|\n",
            "|          3|                     2|Baseball & Softball|\n",
            "|          4|                     2|         Basketball|\n",
            "|          5|                     2|           Lacrosse|\n",
            "|          6|                     2|   Tennis & Racquet|\n",
            "|          7|                     2|             Hockey|\n",
            "|          8|                     2|        More Sports|\n",
            "|          9|                     3|   Cardio Equipment|\n",
            "|         10|                     3|  Strength Training|\n",
            "|         11|                     3|Fitness Accessories|\n",
            "|         12|                     3|       Boxing & MMA|\n",
            "|         13|                     3|        Electronics|\n",
            "|         14|                     3|     Yoga & Pilates|\n",
            "|         15|                     3|  Training by Sport|\n",
            "|         16|                     3|    As Seen on  TV!|\n",
            "|         17|                     4|             Cleats|\n",
            "|         18|                     4|     Men's Footwear|\n",
            "|         19|                     4|   Women's Footwear|\n",
            "|         20|                     4|     Kids' Footwear|\n",
            "+-----------+----------------------+-------------------+\n",
            "only showing top 20 rows\n",
            "\n"
          ]
        }
      ]
    },
    {
      "cell_type": "code",
      "metadata": {
        "colab": {
          "base_uri": "https://localhost:8080/"
        },
        "id": "mTjhaagZJnfz",
        "outputId": "35eb850b-358e-4d05-9c00-456b57eade06"
      },
      "source": [
        "products = spark.read.schema(products_schema).csv('retail_db/products')\n",
        "products.show()"
      ],
      "execution_count": 92,
      "outputs": [
        {
          "output_type": "stream",
          "name": "stdout",
          "text": [
            "+----------+-------------------+--------------------+-------------------+-------------+--------------------+\n",
            "|product_id|product_category_id|        product_name|product_description|product_price|       product_image|\n",
            "+----------+-------------------+--------------------+-------------------+-------------+--------------------+\n",
            "|         1|                  2|Quest Q64 10 FT. ...|               null|        59.98|http://images.acm...|\n",
            "|         2|                  2|Under Armour Men'...|               null|       129.99|http://images.acm...|\n",
            "|         3|                  2|Under Armour Men'...|               null|        89.99|http://images.acm...|\n",
            "|         4|                  2|Under Armour Men'...|               null|        89.99|http://images.acm...|\n",
            "|         5|                  2|Riddell Youth Rev...|               null|       199.99|http://images.acm...|\n",
            "|         6|                  2|Jordan Men's VI R...|               null|       134.99|http://images.acm...|\n",
            "|         7|                  2|Schutt Youth Recr...|               null|        99.99|http://images.acm...|\n",
            "|         8|                  2|Nike Men's Vapor ...|               null|       129.99|http://images.acm...|\n",
            "|         9|                  2|Nike Adult Vapor ...|               null|         50.0|http://images.acm...|\n",
            "|        10|                  2|Under Armour Men'...|               null|       129.99|http://images.acm...|\n",
            "|        11|                  2|Fitness Gear 300 ...|               null|       209.99|http://images.acm...|\n",
            "|        12|                  2|Under Armour Men'...|               null|       139.99|http://images.acm...|\n",
            "|        13|                  2|Under Armour Men'...|               null|        89.99|http://images.acm...|\n",
            "|        14|                  2|Quik Shade Summit...|               null|       199.99|http://images.acm...|\n",
            "|        15|                  2|Under Armour Kids...|               null|        59.99|http://images.acm...|\n",
            "|        16|                  2|Riddell Youth 360...|               null|       299.99|http://images.acm...|\n",
            "|        17|                  2|Under Armour Men'...|               null|       129.99|http://images.acm...|\n",
            "|        18|                  2|Reebok Men's Full...|               null|        29.97|http://images.acm...|\n",
            "|        19|                  2|Nike Men's Finger...|               null|       124.99|http://images.acm...|\n",
            "|        20|                  2|Under Armour Men'...|               null|       129.99|http://images.acm...|\n",
            "+----------+-------------------+--------------------+-------------------+-------------+--------------------+\n",
            "only showing top 20 rows\n",
            "\n"
          ]
        }
      ]
    },
    {
      "cell_type": "code",
      "metadata": {
        "colab": {
          "base_uri": "https://localhost:8080/"
        },
        "id": "JDxFI6FGJ42c",
        "outputId": "60739cb2-f3ee-4dca-cd13-0d116c82fc4c"
      },
      "source": [
        "orders = spark.read.schema(orders_schema).csv('retail_db/orders')\n",
        "orders.show()"
      ],
      "execution_count": 93,
      "outputs": [
        {
          "output_type": "stream",
          "name": "stdout",
          "text": [
            "+--------+----------+-----------------+---------------+\n",
            "|order_id|order_date|order_customer_id|   order_status|\n",
            "+--------+----------+-----------------+---------------+\n",
            "|       1|2013-07-25|            11599|         CLOSED|\n",
            "|       2|2013-07-25|              256|PENDING_PAYMENT|\n",
            "|       3|2013-07-25|            12111|       COMPLETE|\n",
            "|       4|2013-07-25|             8827|         CLOSED|\n",
            "|       5|2013-07-25|            11318|       COMPLETE|\n",
            "|       6|2013-07-25|             7130|       COMPLETE|\n",
            "|       7|2013-07-25|             4530|       COMPLETE|\n",
            "|       8|2013-07-25|             2911|     PROCESSING|\n",
            "|       9|2013-07-25|             5657|PENDING_PAYMENT|\n",
            "|      10|2013-07-25|             5648|PENDING_PAYMENT|\n",
            "|      11|2013-07-25|              918| PAYMENT_REVIEW|\n",
            "|      12|2013-07-25|             1837|         CLOSED|\n",
            "|      13|2013-07-25|             9149|PENDING_PAYMENT|\n",
            "|      14|2013-07-25|             9842|     PROCESSING|\n",
            "|      15|2013-07-25|             2568|       COMPLETE|\n",
            "|      16|2013-07-25|             7276|PENDING_PAYMENT|\n",
            "|      17|2013-07-25|             2667|       COMPLETE|\n",
            "|      18|2013-07-25|             1205|         CLOSED|\n",
            "|      19|2013-07-25|             9488|PENDING_PAYMENT|\n",
            "|      20|2013-07-25|             9198|     PROCESSING|\n",
            "+--------+----------+-----------------+---------------+\n",
            "only showing top 20 rows\n",
            "\n"
          ]
        }
      ]
    },
    {
      "cell_type": "code",
      "metadata": {
        "colab": {
          "base_uri": "https://localhost:8080/"
        },
        "id": "VpMTABwYKCff",
        "outputId": "dea483ed-f70b-4556-9b4a-5be27a80b0d6"
      },
      "source": [
        "order_items = spark.read.schema(order_items_schema).csv('retail_db/order_items')\n",
        "order_items.show()"
      ],
      "execution_count": 94,
      "outputs": [
        {
          "output_type": "stream",
          "name": "stdout",
          "text": [
            "+-------------+-------------------+---------------------+-------------------+-------------------+------------------------+\n",
            "|order_item_id|order_item_order_id|order_item_product_id|order_item_quantity|order_item_subtotal|order_item_product_price|\n",
            "+-------------+-------------------+---------------------+-------------------+-------------------+------------------------+\n",
            "|            1|                  1|                  957|                  1|             299.98|                    null|\n",
            "|            2|                  2|                 1073|                  1|             199.99|                    null|\n",
            "|            3|                  2|                  502|                  5|              250.0|                    null|\n",
            "|            4|                  2|                  403|                  1|             129.99|                    null|\n",
            "|            5|                  4|                  897|                  2|              49.98|                    null|\n",
            "|            6|                  4|                  365|                  5|             299.95|                    null|\n",
            "|            7|                  4|                  502|                  3|              150.0|                    null|\n",
            "|            8|                  4|                 1014|                  4|             199.92|                    null|\n",
            "|            9|                  5|                  957|                  1|             299.98|                    null|\n",
            "|           10|                  5|                  365|                  5|             299.95|                    null|\n",
            "|           11|                  5|                 1014|                  2|              99.96|                    null|\n",
            "|           12|                  5|                  957|                  1|             299.98|                    null|\n",
            "|           13|                  5|                  403|                  1|             129.99|                    null|\n",
            "|           14|                  7|                 1073|                  1|             199.99|                    null|\n",
            "|           15|                  7|                  957|                  1|             299.98|                    null|\n",
            "|           16|                  7|                  926|                  5|              79.95|                    null|\n",
            "|           17|                  8|                  365|                  3|             179.97|                    null|\n",
            "|           18|                  8|                  365|                  5|             299.95|                    null|\n",
            "|           19|                  8|                 1014|                  4|             199.92|                    null|\n",
            "|           20|                  8|                  502|                  1|               50.0|                    null|\n",
            "+-------------+-------------------+---------------------+-------------------+-------------------+------------------------+\n",
            "only showing top 20 rows\n",
            "\n"
          ]
        }
      ]
    },
    {
      "cell_type": "code",
      "metadata": {
        "colab": {
          "base_uri": "https://localhost:8080/"
        },
        "id": "44QCInDjL3di",
        "outputId": "75204f88-4eca-4758-9214-8b05d025c771"
      },
      "source": [
        "customers = spark.read.schema(customers_schema).csv('retail_db/customers')\n",
        "customers.show()"
      ],
      "execution_count": 95,
      "outputs": [
        {
          "output_type": "stream",
          "name": "stdout",
          "text": [
            "+-----------+--------------+--------------+--------------+-----------------+--------------------+-------------+--------------+----------------+\n",
            "|customer_id|customer_fname|customer_lname|customer_email|customer_password|     customer_street|customer_city|customer_state|customer_zipcode|\n",
            "+-----------+--------------+--------------+--------------+-----------------+--------------------+-------------+--------------+----------------+\n",
            "|          1|       Richard|     Hernandez|     XXXXXXXXX|        XXXXXXXXX|  6303 Heather Plaza|  Brownsville|            TX|           78521|\n",
            "|          2|          Mary|       Barrett|     XXXXXXXXX|        XXXXXXXXX|9526 Noble Embers...|    Littleton|            CO|           80126|\n",
            "|          3|           Ann|         Smith|     XXXXXXXXX|        XXXXXXXXX|3422 Blue Pioneer...|       Caguas|            PR|           00725|\n",
            "|          4|          Mary|         Jones|     XXXXXXXXX|        XXXXXXXXX|  8324 Little Common|   San Marcos|            CA|           92069|\n",
            "|          5|        Robert|        Hudson|     XXXXXXXXX|        XXXXXXXXX|10 Crystal River ...|       Caguas|            PR|           00725|\n",
            "|          6|          Mary|         Smith|     XXXXXXXXX|        XXXXXXXXX|3151 Sleepy Quail...|      Passaic|            NJ|           07055|\n",
            "|          7|       Melissa|        Wilcox|     XXXXXXXXX|        XXXXXXXXX|9453 High Concession|       Caguas|            PR|           00725|\n",
            "|          8|         Megan|         Smith|     XXXXXXXXX|        XXXXXXXXX|3047 Foggy Forest...|     Lawrence|            MA|           01841|\n",
            "|          9|          Mary|         Perez|     XXXXXXXXX|        XXXXXXXXX| 3616 Quaking Street|       Caguas|            PR|           00725|\n",
            "|         10|       Melissa|         Smith|     XXXXXXXXX|        XXXXXXXXX|8598 Harvest Beac...|     Stafford|            VA|           22554|\n",
            "|         11|          Mary|       Huffman|     XXXXXXXXX|        XXXXXXXXX|    3169 Stony Woods|       Caguas|            PR|           00725|\n",
            "|         12|   Christopher|         Smith|     XXXXXXXXX|        XXXXXXXXX|5594 Jagged Ember...|  San Antonio|            TX|           78227|\n",
            "|         13|          Mary|       Baldwin|     XXXXXXXXX|        XXXXXXXXX|7922 Iron Oak Gar...|       Caguas|            PR|           00725|\n",
            "|         14|     Katherine|         Smith|     XXXXXXXXX|        XXXXXXXXX|5666 Hazy Pony Sq...|  Pico Rivera|            CA|           90660|\n",
            "|         15|          Jane|          Luna|     XXXXXXXXX|        XXXXXXXXX|    673 Burning Glen|      Fontana|            CA|           92336|\n",
            "|         16|       Tiffany|         Smith|     XXXXXXXXX|        XXXXXXXXX|      6651 Iron Port|       Caguas|            PR|           00725|\n",
            "|         17|          Mary|      Robinson|     XXXXXXXXX|        XXXXXXXXX|     1325 Noble Pike|       Taylor|            MI|           48180|\n",
            "|         18|        Robert|         Smith|     XXXXXXXXX|        XXXXXXXXX|2734 Hazy Butterf...|     Martinez|            CA|           94553|\n",
            "|         19|     Stephanie|      Mitchell|     XXXXXXXXX|        XXXXXXXXX|3543 Red Treasure...|       Caguas|            PR|           00725|\n",
            "|         20|          Mary|         Ellis|     XXXXXXXXX|        XXXXXXXXX|      4703 Old Route|West New York|            NJ|           07093|\n",
            "+-----------+--------------+--------------+--------------+-----------------+--------------------+-------------+--------------+----------------+\n",
            "only showing top 20 rows\n",
            "\n"
          ]
        }
      ]
    },
    {
      "cell_type": "code",
      "metadata": {
        "colab": {
          "base_uri": "https://localhost:8080/"
        },
        "id": "PIcP90mbZKhV",
        "outputId": "5ba65dec-e853-461a-ac71-b3f3341ada6f"
      },
      "source": [
        "#Obtener los clientes (customers) cuyo nombre empieza con “J” o\n",
        "#cuyo apellido termina con “h”\n",
        "customers = customers.where(F.col('customer_fname').like('%J%'))\n",
        "customers.show()"
      ],
      "execution_count": 99,
      "outputs": [
        {
          "output_type": "stream",
          "name": "stdout",
          "text": [
            "+-----------+--------------+--------------+--------------+-----------------+--------------------+-------------+--------------+----------------+\n",
            "|customer_id|customer_fname|customer_lname|customer_email|customer_password|     customer_street|customer_city|customer_state|customer_zipcode|\n",
            "+-----------+--------------+--------------+--------------+-----------------+--------------------+-------------+--------------+----------------+\n",
            "|         15|          Jane|          Luna|     XXXXXXXXX|        XXXXXXXXX|    673 Burning Glen|      Fontana|            CA|           92336|\n",
            "|         22|        Joseph|         Smith|     XXXXXXXXX|        XXXXXXXXX|7740 Broad Fox Vi...| North Bergen|            NJ|           07047|\n",
            "|         26|        Johnny|          Hood|     XXXXXXXXX|        XXXXXXXXX|9576 Middle Hills...|     Glenview|            IL|           60025|\n",
            "|         39|          Juan|      Mckinney|     XXXXXXXXX|        XXXXXXXXX|7274 Blue Wagon  ...|       Caguas|            PR|           00725|\n",
            "|         46|      Jennifer|         Smith|     XXXXXXXXX|        XXXXXXXXX|5463 Rocky Autoroute|     Freeport|            NY|           11520|\n",
            "|         51|       Jessica|         Smith|     XXXXXXXXX|        XXXXXXXXX|8344 Dewy Fawn Farms|       Caguas|            PR|           00725|\n",
            "|         55|         Janet|        Farley|     XXXXXXXXX|        XXXXXXXXX|  6512 Middle Parade|      Phoenix|            AZ|           85029|\n",
            "|         65|      Jennifer|         Smith|     XXXXXXXXX|        XXXXXXXXX|7126 Shady Bluff ...|    Princeton|            NJ|           08540|\n",
            "|         76|        Joseph|         Young|     XXXXXXXXX|        XXXXXXXXX|7605 Tawny Horse ...|  Los Angeles|            CA|           90016|\n",
            "|         78|        Jeremy|         Smith|     XXXXXXXXX|        XXXXXXXXX|       2714 Dewy Bay|    Parkville|            MD|           21234|\n",
            "|         80|           Joe|       Parsons|     XXXXXXXXX|        XXXXXXXXX|     3891 Broad Line|       Caguas|            PR|           00725|\n",
            "|         82|      Jonathan|          Cook|     XXXXXXXXX|        XXXXXXXXX|    7885 Sleepy Cove|  San Antonio|            TX|           78240|\n",
            "|         86|          John|         Smith|     XXXXXXXXX|        XXXXXXXXX|8780 Colonial Orc...|   Fort Worth|            TX|           76106|\n",
            "|        108|        Joshua|         Smith|     XXXXXXXXX|        XXXXXXXXX|4587 Noble Zephyr...|        Bronx|            NY|           10462|\n",
            "|        116|          John|          Hill|     XXXXXXXXX|        XXXXXXXXX|3996 Honey Grove ...|       Caguas|            PR|           00725|\n",
            "|        124|          Judy|         Smith|     XXXXXXXXX|        XXXXXXXXX|911 Sleepy Cloud ...|       Caguas|            PR|           00725|\n",
            "|        137|      Jonathan|       Perkins|     XXXXXXXXX|        XXXXXXXXX|182 Bright Embers...| Broken Arrow|            OK|           74012|\n",
            "|        145|          Joan|       Walters|     XXXXXXXXX|        XXXXXXXXX|8314 Burning Circuit|       Dayton|            OH|           45424|\n",
            "|        159|          John|          Love|     XXXXXXXXX|        XXXXXXXXX|      5002 High Bank|       Corona|            NY|           11368|\n",
            "|        162|          John|        Garcia|     XXXXXXXXX|        XXXXXXXXX|   5452 Jagged Green|       Caguas|            PR|           00725|\n",
            "+-----------+--------------+--------------+--------------+-----------------+--------------------+-------------+--------------+----------------+\n",
            "only showing top 20 rows\n",
            "\n"
          ]
        }
      ]
    },
    {
      "cell_type": "code",
      "metadata": {
        "colab": {
          "base_uri": "https://localhost:8080/"
        },
        "id": "vlBVA_pwZ-p5",
        "outputId": "7027cf9d-bfd4-49e6-e815-d34bf2033616"
      },
      "source": [
        "#Obtener los departamentos conjuntamente con sus categorias\n",
        "departments_categories = departments.join(categories, departments['department_id'] == categories.category_department_id, how='left_outer')\n",
        "departments_categories.show()"
      ],
      "execution_count": 101,
      "outputs": [
        {
          "output_type": "stream",
          "name": "stdout",
          "text": [
            "+-------------+---------------+-----------+----------------------+-------------------+\n",
            "|department_id|department_name|category_id|category_department_id|      category_name|\n",
            "+-------------+---------------+-----------+----------------------+-------------------+\n",
            "|            2|        Fitness|          8|                     2|        More Sports|\n",
            "|            2|        Fitness|          7|                     2|             Hockey|\n",
            "|            2|        Fitness|          6|                     2|   Tennis & Racquet|\n",
            "|            2|        Fitness|          5|                     2|           Lacrosse|\n",
            "|            2|        Fitness|          4|                     2|         Basketball|\n",
            "|            2|        Fitness|          3|                     2|Baseball & Softball|\n",
            "|            2|        Fitness|          2|                     2|             Soccer|\n",
            "|            2|        Fitness|          1|                     2|           Football|\n",
            "|            3|       Footwear|         16|                     3|    As Seen on  TV!|\n",
            "|            3|       Footwear|         15|                     3|  Training by Sport|\n",
            "|            3|       Footwear|         14|                     3|     Yoga & Pilates|\n",
            "|            3|       Footwear|         13|                     3|        Electronics|\n",
            "|            3|       Footwear|         12|                     3|       Boxing & MMA|\n",
            "|            3|       Footwear|         11|                     3|Fitness Accessories|\n",
            "|            3|       Footwear|         10|                     3|  Strength Training|\n",
            "|            3|       Footwear|          9|                     3|   Cardio Equipment|\n",
            "|            4|        Apparel|         22|                     4|        Accessories|\n",
            "|            4|        Apparel|         21|                     4|     Featured Shops|\n",
            "|            4|        Apparel|         20|                     4|     Kids' Footwear|\n",
            "|            4|        Apparel|         19|                     4|   Women's Footwear|\n",
            "+-------------+---------------+-----------+----------------------+-------------------+\n",
            "only showing top 20 rows\n",
            "\n"
          ]
        }
      ]
    },
    {
      "cell_type": "code",
      "metadata": {
        "id": "anGFtlALaQAf"
      },
      "source": [
        "#Obtener los 5 primeros productos con los precios mas altos \n"
      ],
      "execution_count": 102,
      "outputs": []
    }
  ]
}